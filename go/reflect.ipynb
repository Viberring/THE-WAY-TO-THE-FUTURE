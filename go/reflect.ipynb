{
 "cells": [
  {
   "cell_type": "code",
   "execution_count": 1,
   "id": "2c6c7cf1",
   "metadata": {},
   "outputs": [],
   "source": [
    "import (\n",
    "    \"fmt\"\n",
    "    \"reflect\"\n",
    "    \"bytes\"\n",
    "    \"encoding/json\"\n",
    ")"
   ]
  },
  {
   "cell_type": "code",
   "execution_count": 21,
   "id": "4e032838",
   "metadata": {},
   "outputs": [
    {
     "name": "stdout",
     "output_type": "stream",
     "text": [
      " t:  {22 kido}\n",
      " value:  {22 kido}\n",
      " type:  struct { A int; B string }\n",
      " elem:  {22 kido}\n",
      " s.Type:   struct { A int; B string }\n",
      " fields:  2\n"
     ]
    },
    {
     "data": {
      "text/plain": [
       "12 <nil>"
      ]
     },
     "execution_count": 21,
     "metadata": {},
     "output_type": "execute_result"
    }
   ],
   "source": [
    "type T struct {\n",
    "    A int\n",
    "    B string\n",
    "}\n",
    "t := T{22, \"kido\"}\n",
    "\n",
    "fmt.Println(\" t: \", t)\n",
    "fmt.Println(\" value: \", reflect.ValueOf(t))\n",
    "fmt.Println(\" type: \", reflect.TypeOf(t))\n",
    "s := reflect.ValueOf(&t).Elem()\n",
    "fmt.Println(\" elem: \", s)\n",
    "fmt.Println(\" s.Type:  \", s.Type())\n",
    "fmt.Println(\" fields: \", s.NumField())\n",
    "\n"
   ]
  },
  {
   "cell_type": "code",
   "execution_count": 23,
   "id": "d7008926",
   "metadata": {},
   "outputs": [
    {
     "name": "stdout",
     "output_type": "stream",
     "text": [
      "hi\n",
      "42\n",
      " unhandled kind %s func\n"
     ]
    }
   ],
   "source": [
    "for _, v := range []any{\"hi\", 42, func() {}} {\n",
    "    switch v := reflect.ValueOf(v); v.Kind() {\n",
    "    case reflect.String:\n",
    "        fmt.Println(v.String())\n",
    "    case reflect.Int, reflect.Int8, reflect.Int16, reflect.Int32, reflect.Int64:\n",
    "        fmt.Println(v.Int())\n",
    "    default:\n",
    "        fmt.Println(\" unhandled kind %s\", v.Kind())\n",
    "    }\n",
    "}"
   ]
  },
  {
   "cell_type": "code",
   "execution_count": 2,
   "id": "0c1d1191",
   "metadata": {},
   "outputs": [
    {
     "ename": "ERROR",
     "evalue": "reflect.Value.Convert: value of type reflect.Value cannot be converted to type reflect.StructTag",
     "output_type": "error",
     "traceback": [
      "reflect.Value.Convert: value of type reflect.Value cannot be converted to type reflect.StructTag"
     ]
    }
   ],
   "source": [
    "typ := reflect.StructOf([]reflect.StructField{\n",
    "    {\n",
    "        Name: \"Height\",\n",
    "        Type: reflect.TypeOf(float64(0)),\n",
    "        Tag:  `json:\"height\"`,\n",
    "    },\n",
    "    {\n",
    "        Name: \"Age\",\n",
    "        Type: reflect.TypeOf(int(0)),\n",
    "        Tag:  `json:\"age\"`,\n",
    "    },\n",
    "})\n",
    "v := reflect.New(typ).Elem()\n",
    "v.Field(0).SetFloat(0.4)\n",
    "v.Field(1).SetInt(2)\n",
    "s := v.Addr().Interface()\n",
    "\n",
    "w := new(bytes.Buffer)\n",
    "\n",
    "if err := json.NewEncoder(w).Encode(s); err != nil {\n",
    "    panic(err)\n",
    "}\n",
    "\n",
    "fmt.Printf(\"value: %+v\\n\", s)\n",
    "fmt.Printf(\"json:  %s\", w.Bytes())\n",
    "\n"
   ]
  },
  {
   "cell_type": "code",
   "execution_count": 3,
   "id": "0b95a023",
   "metadata": {},
   "outputs": [
    {
     "name": "stdout",
     "output_type": "stream",
     "text": [
      "blue gopher\n"
     ]
    },
    {
     "data": {
      "text/plain": [
       "12 <nil>"
      ]
     },
     "execution_count": 3,
     "metadata": {},
     "output_type": "execute_result"
    }
   ],
   "source": [
    "\n",
    "type S struct {\n",
    "    F string `species:\"gopher\" color:\"blue\"`\n",
    "}\n",
    "s := S{}\n",
    "st := reflect.TypeOf(s)\n",
    "\n",
    "field := st.Field(0)\n",
    "fmt.Println(field.Tag.Get(\"color\"), field.Tag.Get(\"species\"))\n"
   ]
  },
  {
   "cell_type": "code",
   "execution_count": null,
   "id": "abede665",
   "metadata": {},
   "outputs": [],
   "source": []
  },
  {
   "cell_type": "code",
   "execution_count": null,
   "id": "80087193",
   "metadata": {},
   "outputs": [],
   "source": []
  },
  {
   "cell_type": "code",
   "execution_count": null,
   "id": "4c5a56ac",
   "metadata": {},
   "outputs": [],
   "source": []
  }
 ],
 "metadata": {
  "kernelspec": {
   "display_name": "Go",
   "language": "go",
   "name": "gophernotes"
  },
  "language_info": {
   "codemirror_mode": "",
   "file_extension": ".go",
   "mimetype": "",
   "name": "go",
   "nbconvert_exporter": "",
   "pygments_lexer": "",
   "version": "go1.18.1"
  }
 },
 "nbformat": 4,
 "nbformat_minor": 5
}
