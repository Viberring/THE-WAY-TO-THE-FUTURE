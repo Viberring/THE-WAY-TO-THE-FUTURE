{
 "cells": [
  {
   "cell_type": "code",
   "execution_count": 2,
   "id": "bdd837c2",
   "metadata": {},
   "outputs": [],
   "source": [
    "import \"fmt\"\n",
    "import \"math\"\n",
    "import \"unicode/utf8\"\n",
    "func main() {\n",
    "    fmt.Println(\" hello go \")\n",
    "}"
   ]
  },
  {
   "cell_type": "code",
   "execution_count": 6,
   "id": "b7d5c1c4",
   "metadata": {},
   "outputs": [
    {
     "name": "stdout",
     "output_type": "stream",
     "text": [
      " string:  a  | int:  1  | float:  1  | boolean:  false\n"
     ]
    }
   ],
   "source": [
    "func value() {\n",
    "    s := \"a\"\n",
    "    i := 1\n",
    "    f := 1.0\n",
    "    b := false\n",
    "    fmt.Println(\" string: \", s, \" | int: \", i, \" | float: \", f, \" | boolean: \", b)\n",
    "}\n",
    "value()"
   ]
  },
  {
   "cell_type": "code",
   "execution_count": 34,
   "id": "c6e7e117",
   "metadata": {},
   "outputs": [
    {
     "name": "stdout",
     "output_type": "stream",
     "text": [
      "a:  1\n"
     ]
    }
   ],
   "source": [
    "func variable() {\n",
    "    a := 1\n",
    "    fmt.Println(\"a: \", a)\n",
    "}\n",
    "variable()"
   ]
  },
  {
   "cell_type": "code",
   "execution_count": 40,
   "id": "3d9ed4df",
   "metadata": {},
   "outputs": [
    {
     "name": "stdout",
     "output_type": "stream",
     "text": [
      "a:  s  b:  10000  sqrt:  -0.30561438888825215\n"
     ]
    }
   ],
   "source": [
    "func constant() {\n",
    "    const a = \"s\"\n",
    "    const b = 10000\n",
    "    fmt.Println(\"a: \", a, \" b: \", b, \" sqrt: \", math.Sin(b))\n",
    "}\n",
    "constant()"
   ]
  },
  {
   "cell_type": "code",
   "execution_count": 50,
   "id": "15ef2447",
   "metadata": {},
   "outputs": [
    {
     "name": "stdout",
     "output_type": "stream",
     "text": [
      " i =  1\n",
      " i =  2\n"
     ]
    }
   ],
   "source": [
    "func loop() {\n",
    "    for i := 1; i < 3; i++ {\n",
    "        fmt.Println(\" i = \", i)\n",
    "    }\n",
    "    j := 1\n",
    "    for {\n",
    "        if j > 20 {\n",
    "            break\n",
    "        }\n",
    "        j++\n",
    "    }\n",
    "}\n",
    "loop()"
   ]
  },
  {
   "cell_type": "code",
   "execution_count": 52,
   "id": "29a07eeb",
   "metadata": {},
   "outputs": [
    {
     "name": "stdout",
     "output_type": "stream",
     "text": [
      " true \n",
      " i:i \n"
     ]
    }
   ],
   "source": [
    "func ifElse() {\n",
    "    if true {\n",
    "        fmt.Println(\" true \")\n",
    "    }\n",
    "    i := 4\n",
    "    if i == 1 {\n",
    "        fmt.Println(\" i: \", i)\n",
    "    } else if (i == 2) {\n",
    "        fmt.Println(\" i: \", i)\n",
    "    } else if (i == 3) {\n",
    "        fmt.Println(\" i: \", i)\n",
    "    } else {\n",
    "        fmt.Println(\" i:i \")\n",
    "    }\n",
    "}\n",
    "ifElse()"
   ]
  },
  {
   "cell_type": "code",
   "execution_count": 62,
   "id": "dc287fdf",
   "metadata": {},
   "outputs": [
    {
     "name": "stdout",
     "output_type": "stream",
     "text": [
      "i:  2\n",
      " It's a weekday \n",
      " It's after noon \n",
      " I'm a bool \n",
      " I'm an int \n",
      " Don't know type int32\n",
      " Don't know type string\n"
     ]
    }
   ],
   "source": [
    "import \"time\"\n",
    "\n",
    "func Switch() {\n",
    "    \n",
    "    i := 2\n",
    "    switch i {\n",
    "    case 1, 2:\n",
    "        fmt.Println(\"i: \", i)\n",
    "    case 3:\n",
    "        fmt.Println(\"i: \", i)\n",
    "    default:\n",
    "        fmt.Println(\"default\")\n",
    "    }\n",
    "    \n",
    "    \n",
    "    switch time.Now().Weekday() {\n",
    "        case time.Saturday, time.Sunday:\n",
    "            fmt.Println(\" It's the weekend \")\n",
    "        default:\n",
    "            fmt.Println(\" It's a weekday \")\n",
    "    }\n",
    "    \n",
    "    t := time.Now()\n",
    "    switch {\n",
    "    case t.Hour() < 12:\n",
    "        fmt.Println(\" It's before noon\")\n",
    "    default:\n",
    "        fmt.Println(\" It's after noon \")\n",
    "    }\n",
    "    \n",
    "    whatAmI := func(i interface{}) {\n",
    "        switch t := i.(type) {\n",
    "        case bool:\n",
    "            fmt.Println(\" I'm a bool \")\n",
    "        case int:\n",
    "            fmt.Println(\" I'm an int \")\n",
    "        default:\n",
    "            fmt.Printf(\" Don't know type %T\\n\", t)\n",
    "        }\n",
    "    }\n",
    "    \n",
    "    whatAmI(true)\n",
    "    whatAmI(1)\n",
    "    whatAmI('h')\n",
    "    whatAmI(\"hey\")\n",
    "}\n",
    "Switch()"
   ]
  },
  {
   "cell_type": "code",
   "execution_count": 89,
   "id": "f41bd31c",
   "metadata": {},
   "outputs": [
    {
     "name": "stdout",
     "output_type": "stream",
     "text": [
      " a[] :  [0 0 0 0 0]\n",
      " a[] :  [0 0 0 0 100]\n",
      " len(a[]) :  5\n",
      " b[] :  [1 2 3 4 5]\n",
      " td[][] :  [[0 1 2] [1 2 3]]\n",
      " s[] :  [  ]\n",
      " s[] :  [a b c]\n",
      " s[] :  [a b c d]\n",
      " s[] :  [a b c d e f]\n",
      " ss[] :  [a b c d e f]\n",
      " l[] :  [b c d e]\n",
      " s[] :  [a b c d e f]\n",
      " l[] :  [l c d e]\n",
      " s[] :  [a l c d e f]\n",
      " sss[] :  [z x y]\n",
      " 2d:  [[0] [1 2] [2 3 4]]\n"
     ]
    }
   ],
   "source": [
    "func ArraySlice() {\n",
    "    \n",
    "    var a [5]int\n",
    "    fmt.Println(\" a[] : \", a)\n",
    "    \n",
    "    a[4] = 100\n",
    "    fmt.Println(\" a[] : \", a)\n",
    "    \n",
    "    fmt.Println(\" len(a[]) : \", len(a))\n",
    "    \n",
    "    b := [5]int{1, 2, 3, 4, 5}\n",
    "    fmt.Println(\" b[] : \", b)\n",
    "    \n",
    "    var td [2][3]int\n",
    "    for i := 0; i < 2; i++ {\n",
    "        for j := 0; j < 3; j++ {\n",
    "            td[i][j] = i + j\n",
    "        }\n",
    "    }\n",
    "    fmt.Println(\" td[][] : \", td)\n",
    "    \n",
    "    \n",
    "    // ===================================\n",
    "    \n",
    "    s := make([]string, 3)\n",
    "    fmt.Println(\" s[] : \", s)\n",
    "    \n",
    "    s[0] = \"a\"; s[1] = \"b\"; s[2] = \"c\";\n",
    "    fmt.Println(\" s[] : \", s)\n",
    "    \n",
    "    s = append(s, \"d\")\n",
    "    fmt.Println(\" s[] : \", s)\n",
    "    \n",
    "    s = append(s, \"e\", \"f\")\n",
    "    fmt.Println(\" s[] : \", s)\n",
    "    \n",
    "    ss := make([]string, len(s))\n",
    "    copy(ss, s)\n",
    "    fmt.Println(\" ss[] : \", ss)\n",
    "    \n",
    "    l := s[1:5]\n",
    "    fmt.Println(\" l[] : \", l)    \n",
    "    fmt.Println(\" s[] : \", s)\n",
    "    l[0] = \"l\"\n",
    "    fmt.Println(\" l[] : \", l)\n",
    "    fmt.Println(\" s[] : \", s)\n",
    "    \n",
    "    \n",
    "    sss := []string{\"z\", \"x\", \"y\"}\n",
    "    fmt.Println(\" sss[] : \", sss)\n",
    "    \n",
    "    std := make([][]int, 3)\n",
    "    for i := 0; i < 3; i++ {\n",
    "        innerLen := i + 1\n",
    "        std[i] = make([]int, innerLen)\n",
    "        for j := 0; j < innerLen; j++ {\n",
    "            std[i][j] = i + j\n",
    "        }\n",
    "    }\n",
    "    fmt.Println(\" 2d: \", std)\n",
    "    \n",
    "    \n",
    "}\n",
    "ArraySlice()"
   ]
  },
  {
   "cell_type": "code",
   "execution_count": 99,
   "id": "82d3a823",
   "metadata": {},
   "outputs": [
    {
     "name": "stdout",
     "output_type": "stream",
     "text": [
      "map[a:1]\n",
      "1\n",
      "1 true\n",
      "0 false\n",
      "map[]\n",
      "false\n",
      "map[a:1 b:2]\n"
     ]
    }
   ],
   "source": [
    "func Map() {\n",
    "    \n",
    "    m := make(map[string]int)\n",
    "    m['a'] = 1\n",
    "    fmt.Println(m)\n",
    "    fmt.Println(len(m))\n",
    "    \n",
    "    fmt.Println(m['a'])\n",
    "    fmt.Println(m['b'])\n",
    "    \n",
    "    delete(m, 'a')\n",
    "    fmt.Println(m)\n",
    "    \n",
    "    _, p := m['b']\n",
    "    fmt.Println(p)\n",
    "    \n",
    "    mm := map[string]int{'a': 1, 'b': 2}\n",
    "    fmt.Println(mm)\n",
    "    \n",
    "}\n",
    "Map()"
   ]
  },
  {
   "cell_type": "code",
   "execution_count": 109,
   "id": "c3cc3543",
   "metadata": {},
   "outputs": [
    {
     "name": "stdout",
     "output_type": "stream",
     "text": [
      " i:  0  v:  1\n",
      " i:  1  v:  2\n",
      " i:  2  v:  3\n",
      " i:  0  s:  a\n",
      " i:  1  s:  b\n",
      " i:  2  s:  c\n",
      " i:  3  s:  \n",
      " k:  a  v:  1\n",
      " k:  b  v:  2\n",
      " K:  a\n",
      " K:  b\n",
      " v:  1\n",
      " v:  2\n",
      " i:  0  r:  103\n",
      " i:  1  r:  111\n"
     ]
    }
   ],
   "source": [
    "func Range() {\n",
    "    \n",
    "    nums := []int{1, 2, 3}\n",
    "    for i, v := range nums {\n",
    "        fmt.Println(\" i: \", i, \" v: \", v)\n",
    "    }\n",
    "    \n",
    "    strs := [4]string{\"a\", \"b\", \"c\"}\n",
    "    for i, s := range strs {\n",
    "        fmt.Println(\" i: \", i, \" s: \", s)\n",
    "    }\n",
    "    \n",
    "    \n",
    "    m := map[string]string{\"a\": \"1\", \"b\": \"2\"}\n",
    "    for k, v := range m {\n",
    "        fmt.Println(\" k: \", k, \" v: \", v)\n",
    "    }\n",
    "    for k := range m {\n",
    "        fmt.Println(\" K: \", k)\n",
    "    }\n",
    "    for _, v := range m {\n",
    "        fmt.Println(\" v: \", v)\n",
    "    }\n",
    "    \n",
    "    for i, r := range \"go\" {\n",
    "        fmt.Println(\" i: \", i, \" r: \", r)\n",
    "    }\n",
    "}\n",
    "Range()"
   ]
  },
  {
   "cell_type": "code",
   "execution_count": 128,
   "id": "7a522616",
   "metadata": {},
   "outputs": [
    {
     "name": "stdout",
     "output_type": "stream",
     "text": [
      "3\n",
      "add(a,b):  3\n",
      " one:  1  two:  2\n",
      " variadic:  6\n",
      " variadic:  10\n"
     ]
    }
   ],
   "source": [
    "func Func() {\n",
    "    sum := func(a int, b int) int {        \n",
    "        return a + b\n",
    "    }\n",
    "    go fmt.Println(\">>>>>> sum(2,3)=\", sum(2, 3))\n",
    "    fmt.Println(sum(1, 2))\n",
    "    add := func(a, b int) int {\n",
    "        return a + b\n",
    "    }\n",
    "    fmt.Println(\"add(a,b): \", add(1, 2))\n",
    "    ///////////////////////////////////\n",
    "    identity := func(a, b int) (int, int) {\n",
    "        return a, b\n",
    "    }\n",
    "    one, two := identity(1, 2)\n",
    "    fmt.Println(\" one: \", one, \" two: \", two)\n",
    "    \n",
    "    variadic := func(nums ...int) int {\n",
    "        sum := 0\n",
    "        for _, n := range nums {\n",
    "            sum += n\n",
    "        }\n",
    "        return sum\n",
    "    }\n",
    "    fmt.Println(\" variadic: \", variadic(1, 2, 3))\n",
    "    s := []int{1, 2, 3, 4}\n",
    "    fmt.Println(\" variadic: \", variadic(s...))\n",
    "    \n",
    "    \n",
    "}\n",
    "Func()"
   ]
  },
  {
   "cell_type": "code",
   "execution_count": 138,
   "id": "b2b126cb",
   "metadata": {},
   "outputs": [
    {
     "name": "stdout",
     "output_type": "stream",
     "text": [
      " i:  1\n",
      " i:  2\n",
      " i:  3\n"
     ]
    }
   ],
   "source": [
    "func Closure() func() int {\n",
    "    i := 0\n",
    "    return func() int {\n",
    "        i += 1\n",
    "        fmt.Println(\" i: \", i)\n",
    "        return i\n",
    "    }\n",
    "}\n",
    "c := Closure()\n",
    "for i := 0; i < 3; i++ {\n",
    "    c()\n",
    "}"
   ]
  },
  {
   "cell_type": "code",
   "execution_count": 139,
   "id": "a1761b88",
   "metadata": {},
   "outputs": [
    {
     "name": "stdout",
     "output_type": "stream",
     "text": [
      "2\n"
     ]
    }
   ],
   "source": [
    "func Recursion() {\n",
    "    var fib func(int) int\n",
    "    fib = func(n int) int {\n",
    "        if n < 2 {\n",
    "            return n\n",
    "        }\n",
    "        return fib(n-1) + fib(n-2)\n",
    "    }\n",
    "    fmt.Println(fib(3))\n",
    "}\n",
    "Recursion()"
   ]
  },
  {
   "cell_type": "code",
   "execution_count": 148,
   "id": "15527259",
   "metadata": {},
   "outputs": [
    {
     "name": "stdout",
     "output_type": "stream",
     "text": [
      " &a= 0xc00003a0e0\n",
      " a=1 -> a= 2\n",
      " aa=1 -> aa= 1\n"
     ]
    }
   ],
   "source": [
    "func Pointer() {\n",
    "    p := func(a *int) {\n",
    "        *a = 2\n",
    "    }\n",
    "    a := 1\n",
    "    p(&a)\n",
    "    fmt.Println(\" &a=\", &a)\n",
    "    fmt.Println(\" a=1 -> a=\", a)    \n",
    "    \n",
    "    np := func(aa int) {\n",
    "        aa = 1\n",
    "    }\n",
    "    aa := 1\n",
    "    np(aa)\n",
    "    fmt.Println(\" aa=1 -> aa=\", aa)\n",
    "}\n",
    "Pointer()"
   ]
  },
  {
   "cell_type": "code",
   "execution_count": 162,
   "id": "2d32bab3",
   "metadata": {},
   "outputs": [
    {
     "name": "stdout",
     "output_type": "stream",
     "text": [
      " len(s) =  18\n",
      " rune len(s) =  6\n",
      " e0  b8  aa  e0  b8  a7  e0  b8  b1  e0  b8  aa  e0  b8  94  e0  b8  b5 \n",
      " [ U+0E2A 'ส' starts at 0 ]  [ U+0E27 'ว' starts at 3 ]  [ U+0E31 'ั' starts at 6 ]  [ U+0E2A 'ส' starts at 9 ]  [ U+0E14 'ด' starts at 12 ]  [ U+0E35 'ี' starts at 15 ] "
     ]
    }
   ],
   "source": [
    "func Rune() {\n",
    "    const s = \"สวัสดี\"\n",
    "    fmt.Println(\" len(s) = \", len(s))\n",
    "    fmt.Println(\" rune len(s) = \", utf8.RuneCountInString(s))\n",
    "    \n",
    "    for i := 0; i < len(s); i++ {\n",
    "        fmt.Printf(\" %x \", s[i])\n",
    "    }\n",
    "    fmt.Println()\n",
    "    for idx, r := range(s) {\n",
    "        fmt.Printf(\" [ %#U starts at %d ] \", r, idx)\n",
    "    }\n",
    "    \n",
    "}\n",
    "Rune()"
   ]
  },
  {
   "cell_type": "code",
   "execution_count": 192,
   "id": "2b29db7b",
   "metadata": {},
   "outputs": [
    {
     "name": "stdout",
     "output_type": "stream",
     "text": [
      " person:  &{a 12}\n",
      " person.name:  a\n",
      " person.age:  12\n",
      " person:  {b 18}\n",
      " person.name:  b\n",
      " person:  {c 0}\n",
      " area:  50\n",
      " perim:  30\n",
      " cotainer:  {{1} sss}\n"
     ]
    },
    {
     "data": {
      "text/plain": [
       "22 <nil>"
      ]
     },
     "execution_count": 192,
     "metadata": {},
     "output_type": "execute_result"
    }
   ],
   "source": [
    "func Struct() {\n",
    "    \n",
    "    type person struct {\n",
    "        name string\n",
    "        age int\n",
    "    }\n",
    "    \n",
    "    p := &person{name: \"a\", age: 12}\n",
    "\n",
    "    fmt.Println(\" person: \", p)\n",
    "    fmt.Println(\" person.name: \", p.name)\n",
    "    fmt.Println(\" person.age: \", p.age)\n",
    "    \n",
    "\n",
    "    pp := person{name: \"b\", age: 18}\n",
    "    fmt.Println(\" person: \", pp)\n",
    "    fmt.Println(\" person.name: \", pp.name)\n",
    "    \n",
    "    ppp := person{name: \"c\"}\n",
    "    fmt.Println(\" person: \", ppp)\n",
    "    \n",
    "}\n",
    "\n",
    "Struct()\n",
    "\n",
    "    \n",
    "type rect struct {\n",
    "    width, height int\n",
    "}\n",
    "\n",
    "func (r *rect) area() int {\n",
    "    return r.width * r.height\n",
    "}\n",
    "func (r rect) perim() int {\n",
    "    return 2*r.width + 2*r.height\n",
    "}\n",
    "\n",
    "r := rect{ width: 10, height: 5 }\n",
    "fmt.Println(\" area: \", r.area())\n",
    "fmt.Println(\" perim: \", r.perim())\n",
    "\n",
    "\n",
    "type base struct {\n",
    "    num int\n",
    "}\n",
    "type container struct {\n",
    "    base\n",
    "    str string\n",
    "}\n",
    "co := container {\n",
    "    base: base {\n",
    "        num: 1,\n",
    "    },\n",
    "    str: \"sss\",\n",
    "}\n",
    "fmt.Println(\" cotainer: \", co)"
   ]
  },
  {
   "cell_type": "code",
   "execution_count": 189,
   "id": "4ca13826",
   "metadata": {},
   "outputs": [
    {
     "name": "stdout",
     "output_type": "stream",
     "text": [
      "&{{{{0xc00040fc20 0xc0004212c0 409}} 0x48ffac0} 0x40bfd80 0x40bfd80}\n",
      "12\n",
      "14\n",
      "&{{{{0xc00040fd40 0xc0004212d0 409}} 0x48ffac0} 0x40bfd80 0x40bfd80}\n",
      "78.53981633974483\n",
      "31.41592653589793\n"
     ]
    }
   ],
   "source": [
    "type geometry interface {\n",
    "    area() float64\n",
    "    perim() float64\n",
    "}\n",
    "type rect struct {\n",
    "    width, height float64        \n",
    "}\n",
    "type circle struct {\n",
    "    radius float64\n",
    "}\n",
    "\n",
    "func (r rect) area() float64 {\n",
    "    return r.width * r.height\n",
    "}\n",
    "func (r rect) perim() float64 {\n",
    "    return 2*r.width + 2*r.height\n",
    "}\n",
    "func (c circle) area() float64 {\n",
    "    return math.Pi * c.radius * c.radius\n",
    "}\n",
    "func (c circle) perim() float64 {\n",
    "    return 2 * math.Pi * c.radius\n",
    "}\n",
    "\n",
    "func measure(g geometry) {\n",
    "    fmt.Println(g)\n",
    "    fmt.Println(g.area())\n",
    "    fmt.Println(g.perim())\n",
    "}\n",
    "\n",
    "r := rect{width: 3, height: 4}\n",
    "c := circle{radius: 5}\n",
    "\n",
    "measure(r)\n",
    "measure(c)"
   ]
  },
  {
   "cell_type": "code",
   "execution_count": 194,
   "id": "a8fc4587",
   "metadata": {},
   "outputs": [
    {
     "ename": "ERROR",
     "evalue": "repl.go:1:13: expected '(', found '[' (and 2 more errors)",
     "output_type": "error",
     "traceback": [
      "repl.go:1:13: expected '(', found '[' (and 2 more errors)"
     ]
    }
   ],
   "source": [
    "func MapKeys[K comparable, V any](m map[K]V) []K {\n",
    "    r := make([]K, 0, len(m))\n",
    "    for k := range m {\n",
    "        r = append(r, k)\n",
    "    }\n",
    "    return r\n",
    "}\n",
    "m := map[int]string{1: \"2\", 2: \"4\", 3: \"8\"}\n",
    "fmt.Println(\" keys: \", MapKeys(m))\n",
    "\n",
    "type List[T any] struct {\n",
    "    head, tail *element[T]\n",
    "}\n",
    "type element[T any] struct {\n",
    "    next *element[T]\n",
    "    val T\n",
    "}\n",
    "func (lst *List[T]) Push(v T) {\n",
    "    if lst.tail == nil {\n",
    "        lst.head = &element[T]{val: v}\n",
    "        lst.tail = lst.head\n",
    "    } else {\n",
    "        lst.tail.next = &element[T]{val: v}\n",
    "        lst.tail = lst.tail.next\n",
    "    }\n",
    "}\n",
    "func (lst *List[T]) GetAll() []T {\n",
    "    var elems []T\n",
    "    for e := lst.head; e != nil; e = e.next {\n",
    "        elems = append(elems, e.val)\n",
    "    }\n",
    "    return elems\n",
    "}\n"
   ]
  },
  {
   "cell_type": "code",
   "execution_count": 196,
   "id": "11d4e694",
   "metadata": {},
   "outputs": [],
   "source": [
    "import \"errors\""
   ]
  },
  {
   "cell_type": "code",
   "execution_count": 209,
   "id": "4b38238b",
   "metadata": {},
   "outputs": [
    {
     "name": "stdout",
     "output_type": "stream",
     "text": [
      " v:  -1  e:   errorrrrr \n",
      " vv:  -1  ee:  {42  errorrrrr }\n"
     ]
    },
    {
     "data": {
      "text/plain": [
       "32 <nil>"
      ]
     },
     "execution_count": 209,
     "metadata": {},
     "output_type": "execute_result"
    }
   ],
   "source": [
    "func Err(arg int) (int, error) {\n",
    "    if arg == 42 {\n",
    "        return -1, errors.New(\" errorrrrr \")\n",
    "    }\n",
    "    return arg + 3, nil\n",
    "}\n",
    "v, e := Err(42)\n",
    "fmt.Println(\" v: \", v, \" e: \", e)\n",
    "\n",
    "type argError struct {\n",
    "    arg int\n",
    "    prob string\n",
    "}\n",
    "func (e argError) Error() string {\n",
    "    return fmt.Sprintf(\"%d - %s\", e.arg, e.prob)\n",
    "}\n",
    "func ArgErr(arg int) (int, error) {\n",
    "    if arg == 42 {\n",
    "        return -1, argError{arg, \" errorrrrr \"}\n",
    "    }\n",
    "    return arg + 3, nil\n",
    "}\n",
    "vv, ee := ArgErr(42)\n",
    "fmt.Println(\" vv: \", vv, \" ee: \", ee)"
   ]
  },
  {
   "cell_type": "code",
   "execution_count": 216,
   "id": "cc903ca3",
   "metadata": {},
   "outputs": [
    {
     "name": "stdout",
     "output_type": "stream",
     "text": [
      "sync *********\n",
      "sync *********\n",
      "sync *********\n",
      "===================\n",
      "async *********\n",
      "async *********\n",
      "async *********\n",
      "Done\n"
     ]
    }
   ],
   "source": [
    "func Go() {\n",
    "    f := func(sync string) {\n",
    "        for i := 0; i < 3; i++ {\n",
    "            fmt.Println(sync, \"*********\")\n",
    "        }\n",
    "    }\n",
    "    f(\"sync\")\n",
    "    go f(\"async\")\n",
    "    go func(msg string) {\n",
    "        fmt.Println(msg)\n",
    "    }(\"===================\")\n",
    "    time.Sleep(time.Second)\n",
    "    fmt.Println(\"Done\")\n",
    "}\n",
    "Go()"
   ]
  },
  {
   "cell_type": "code",
   "execution_count": 3,
   "id": "1181eaff",
   "metadata": {},
   "outputs": [
    {
     "name": "stdout",
     "output_type": "stream",
     "text": [
      " msg:  goooooo\n",
      " a:  a\n",
      " b:  b\n"
     ]
    }
   ],
   "source": [
    "func Channel() {\n",
    "    messages := make(chan string)\n",
    "    go func() { messages<- \"goooooo\" }()\n",
    "    msg := <-messages\n",
    "    \n",
    "    fmt.Println(\" msg: \", msg)\n",
    "    \n",
    "    \n",
    "    nMessages := make(chan string, 2)\n",
    "    nMessages<- \"a\"\n",
    "    nMessages<- \"b\"\n",
    "    \n",
    "    fmt.Println(\" a: \", <-nMessages)\n",
    "    fmt.Println(\" b: \", <-nMessages)\n",
    "    \n",
    "}\n",
    "Channel()"
   ]
  },
  {
   "cell_type": "code",
   "execution_count": 6,
   "id": "38504978",
   "metadata": {},
   "outputs": [
    {
     "name": "stdout",
     "output_type": "stream",
     "text": [
      "working.........done"
     ]
    }
   ],
   "source": [
    "import \"time\"\n",
    "func Sync() {\n",
    "    worker := func(done chan bool) {\n",
    "        fmt.Print(\"working.........\")\n",
    "        time.Sleep(time.Second)\n",
    "        fmt.Print(\"done\")\n",
    "        done<- true\n",
    "    }\n",
    "    done := make(chan bool, 1)\n",
    "    go worker(done)\n",
    "    \n",
    "    <-done\n",
    "}\n",
    "Sync()"
   ]
  },
  {
   "cell_type": "code",
   "execution_count": 10,
   "id": "cf809ceb",
   "metadata": {},
   "outputs": [
    {
     "name": "stdout",
     "output_type": "stream",
     "text": [
      " -------  true\n"
     ]
    },
    {
     "data": {
      "text/plain": [
       "15 <nil>"
      ]
     },
     "execution_count": 10,
     "metadata": {},
     "output_type": "execute_result"
    }
   ],
   "source": [
    "func ping(pings chan<- string, msg string) {\n",
    "    pings<- msg\n",
    "}\n",
    "func pong(pings <-chan string, pongs chan<- string) {\n",
    "    msg := <-pings\n",
    "    pongs<- msg\n",
    "}\n",
    "pings := make(chan string, 1)\n",
    "pongs := make(chan string, 1)\n",
    "ping(pings, \" ------- \")\n",
    "pong(pings, pongs)\n",
    "fmt.Println(<-pongs)\n"
   ]
  },
  {
   "cell_type": "code",
   "execution_count": 11,
   "id": "fc98eeee",
   "metadata": {},
   "outputs": [
    {
     "name": "stdout",
     "output_type": "stream",
     "text": [
      " received:  one\n",
      " received:  two\n"
     ]
    }
   ],
   "source": [
    "func Select() {\n",
    "    c1 := make(chan string)\n",
    "    c2 := make(chan string)\n",
    "    \n",
    "    go func(){\n",
    "        time.Sleep(1 * time.Second)\n",
    "        c1<- \"one\"\n",
    "    }()\n",
    "    go func() {\n",
    "        time.Sleep(2 * time.Second)\n",
    "        c2<- \"two\"\n",
    "    }()\n",
    "    \n",
    "    for i := 0; i < 2; i++ {\n",
    "        select {\n",
    "        case msg1 := <-c1:\n",
    "            fmt.Println(\" received: \", msg1)\n",
    "        case msg2 := <-c2:\n",
    "            fmt.Println(\" received: \", msg2)\n",
    "        }\n",
    "    }\n",
    "}\n",
    "Select()"
   ]
  },
  {
   "cell_type": "code",
   "execution_count": 13,
   "id": "e57fa26f",
   "metadata": {},
   "outputs": [
    {
     "name": "stdout",
     "output_type": "stream",
     "text": [
      " timeout 1\n",
      " result 2\n"
     ]
    }
   ],
   "source": [
    "func Timeout() {\n",
    "    \n",
    "    c1 := make(chan string, 1)\n",
    "    go func() {\n",
    "        time.Sleep(2 * time.Second)\n",
    "        c1<- \"result 1\"\n",
    "    }()\n",
    "    select {\n",
    "    case res := <-c1:\n",
    "        fmt.Println(res)\n",
    "    case <-time.After(1 * time.Second):\n",
    "        fmt.Println(\" timeout 1\")\n",
    "    }\n",
    "    \n",
    "    c2 := make(chan string, 1)\n",
    "    go func() {\n",
    "        time.Sleep(2 * time.Second) \n",
    "        c2<- \" result 2\"\n",
    "    }()\n",
    "    select {\n",
    "    case res := <-c2:\n",
    "        fmt.Println(res)\n",
    "    case <-time.After(3 * time.Second):\n",
    "        fmt.Println(\" timeout 2\")\n",
    "    }\n",
    "    \n",
    "    \n",
    "}\n",
    "Timeout()"
   ]
  },
  {
   "cell_type": "code",
   "execution_count": 15,
   "id": "97717c4d",
   "metadata": {},
   "outputs": [
    {
     "name": "stdout",
     "output_type": "stream",
     "text": [
      "no message received\n",
      " no message sent \n",
      " no activity\n"
     ]
    }
   ],
   "source": [
    "func NonBlocking() {\n",
    "    \n",
    "    messages := make(chan string)\n",
    "    signals := make(chan string)\n",
    "    \n",
    "    select {\n",
    "    case msg := <-messages:\n",
    "        fmt.Println(\"received message\", msg)\n",
    "    default:\n",
    "        fmt.Println(\"no message received\")\n",
    "    }\n",
    "    \n",
    "    msg := \"hi\"\n",
    "    select {\n",
    "    case messages<- msg:\n",
    "        fmt.Println(\" sent message \", msg)\n",
    "    default:\n",
    "        fmt.Println(\" no message sent \")\n",
    "    }\n",
    "    \n",
    "    select {\n",
    "    case msg := <-messages:\n",
    "        fmt.Println(\" received message \", msg)\n",
    "    case sig := <-signals:\n",
    "        fmt.Println(\" received signal \", sig)\n",
    "    default:\n",
    "        fmt.Println(\" no activity\")\n",
    "    }\n",
    "    \n",
    "}\n",
    "NonBlocking()"
   ]
  },
  {
   "cell_type": "code",
   "execution_count": 17,
   "id": "76f22c7d",
   "metadata": {},
   "outputs": [
    {
     "name": "stdout",
     "output_type": "stream",
     "text": [
      " sent job:  1\n",
      " sent job:  2\n",
      " sent job:  3\n",
      " sent all jobs \n",
      " received jobs 1\n",
      " received jobs 2\n",
      " received jobs 3\n",
      " received all jobs \n"
     ]
    }
   ],
   "source": [
    "func CloseChannel() {\n",
    "    jobs := make(chan int, 5)\n",
    "    done := make(chan bool)\n",
    "    \n",
    "    go func() {\n",
    "        for {\n",
    "            j, more := <-jobs\n",
    "            if more {\n",
    "                fmt.Println(\" received jobs\", j)\n",
    "            } else {\n",
    "                fmt.Println(\" received all jobs \")\n",
    "                done<- true\n",
    "                return\n",
    "            }\n",
    "        }\n",
    "    }()\n",
    "    \n",
    "    for j := 1; j <= 3; j++ {\n",
    "        jobs<- j\n",
    "        fmt.Println(\" sent job: \", j)\n",
    "    }\n",
    "    close(jobs)\n",
    "    \n",
    "    fmt.Println(\" sent all jobs \")\n",
    "    \n",
    "    <-done\n",
    "}\n",
    "CloseChannel()"
   ]
  },
  {
   "cell_type": "code",
   "execution_count": 4,
   "id": "0266632f",
   "metadata": {},
   "outputs": [
    {
     "name": "stdout",
     "output_type": "stream",
     "text": [
      "one\n",
      "two\n"
     ]
    }
   ],
   "source": [
    "func RangeChannel() {\n",
    "    \n",
    "    queue := make(chan string, 2)\n",
    "    queue<- \"one\"\n",
    "    queue<- \"two\"\n",
    "    close(queue)\n",
    "    \n",
    "    for elem := range(queue) {\n",
    "        fmt.Println(elem)\n",
    "    }\n",
    "    \n",
    "}\n",
    "RangeChannel()"
   ]
  },
  {
   "cell_type": "code",
   "execution_count": 11,
   "id": "6f943cd1",
   "metadata": {},
   "outputs": [
    {
     "name": "stdout",
     "output_type": "stream",
     "text": [
      "Tick at 2022-11-19 01:12:53.884587 +0800 CST m=+1474.367467429\n",
      "Tick at 2022-11-19 01:12:54.186102 +0800 CST m=+1474.668980477\n",
      "Tick at 2022-11-19 01:12:54.485124 +0800 CST m=+1474.968000703\n",
      "Tick at 2022-11-19 01:12:54.785595 +0800 CST m=+1475.268470515\n",
      "Tick at 2022-11-19 01:12:55.086694 +0800 CST m=+1475.569567495\n",
      " Ticker stopped \n"
     ]
    }
   ],
   "source": [
    "func Timer() {\n",
    "    timer1 := time.NewTimer(2 * time.Second)\n",
    "    <-timer1.C\n",
    "    fmt.Println(\" Timer 1 fired \")\n",
    "    \n",
    "    \n",
    "    timer2 := time.NewTimer(time.Second)\n",
    "    go func() {\n",
    "        <-timer2.C\n",
    "        fmt.Println(\" Timer 2 fired \")\n",
    "    }()\n",
    "    stop2 := timer2.Stop()\n",
    "    if stop2 {\n",
    "        fmt.Println(\" Timer 2 stopped \")\n",
    "    }\n",
    "    time.Sleep(2 * time.Second)\n",
    "}\n",
    "func Ticker() {\n",
    "    ticker := time.NewTicker(300 * time.Millisecond)\n",
    "    done := make(chan bool)\n",
    "    go func() {\n",
    "        for {\n",
    "            select {\n",
    "            case <-done:\n",
    "                return\n",
    "            case t := <-ticker.C:\n",
    "                fmt.Println(\"Tick at\", t)\n",
    "            }\n",
    "        }\n",
    "    }()\n",
    "    time.Sleep(1600 * time.Millisecond)\n",
    "    ticker.Stop()\n",
    "    done<- true\n",
    "    fmt.Println(\" Ticker stopped \")\n",
    "}\n",
    "Ticker()"
   ]
  },
  {
   "cell_type": "code",
   "execution_count": 13,
   "id": "79d712d7",
   "metadata": {},
   "outputs": [
    {
     "name": "stdout",
     "output_type": "stream",
     "text": [
      " worker  3  started job \n",
      " worker  2  started job \n",
      " worker  1  started job \n",
      " worker  1  finished job \n",
      " worker  1  started job \n",
      " worker  2  finished job \n",
      " worker  3  finished job \n",
      " worker  2  started job \n",
      " worker  1  finished job \n",
      " worker  2  finished job \n"
     ]
    }
   ],
   "source": [
    "func WorkerPools() {\n",
    "    worker := func(id int, jobs <-chan int, results chan<- int) {\n",
    "        for j := range jobs {\n",
    "            fmt.Println(\" worker \", id, \" started job \")\n",
    "            time.Sleep(5 * time.Second)\n",
    "            fmt.Println(\" worker \", id, \" finished job \")\n",
    "            results<- j * 2\n",
    "        }\n",
    "    }\n",
    "    \n",
    "    const numJobs = 5\n",
    "    jobs := make(chan int, numJobs)\n",
    "    results := make(chan int, numJobs)\n",
    "    \n",
    "    for w := 1; w <= 3; w++ {\n",
    "        go worker(w, jobs, results)\n",
    "    }\n",
    "    for j := 1; j <= numJobs; j++ {\n",
    "        jobs<- j\n",
    "    }\n",
    "    close(jobs)\n",
    "    \n",
    "    for a := 1; a <= numJobs; a++ {\n",
    "        <-results\n",
    "    }\n",
    "}\n",
    "WorkerPools()"
   ]
  },
  {
   "cell_type": "code",
   "execution_count": 15,
   "id": "6826eabd",
   "metadata": {},
   "outputs": [
    {
     "name": "stdout",
     "output_type": "stream",
     "text": [
      " Worker 5 starting \n",
      " Worker 3 starting \n",
      " Worker 4 starting \n",
      " Worker 1 starting \n",
      " Worker 2 starting \n",
      " Worker 4 done\n",
      " Worker 2 done\n",
      " Worker 3 done\n",
      " Worker 5 done\n",
      " Worker 1 done\n"
     ]
    }
   ],
   "source": [
    "import \"sync\"\n",
    "func WaitGroupss() {\n",
    "    worker := func(id int) {\n",
    "        fmt.Printf(\" Worker %d starting \\n\", id)\n",
    "        time.Sleep(time.Second)\n",
    "        fmt.Printf(\" Worker %d done\\n\", id)\n",
    "    }\n",
    "    \n",
    "    var wg sync.WaitGroup\n",
    "    \n",
    "    for i := 1; i <= 5; i++ {\n",
    "        wg.Add(1)\n",
    "        i := i\n",
    "        \n",
    "        go func() {\n",
    "            defer wg.Done()\n",
    "            worker(i)\n",
    "        }()\n",
    "    }\n",
    "    \n",
    "    wg.Wait()\n",
    "}\n",
    "WaitGroupss()"
   ]
  },
  {
   "cell_type": "code",
   "execution_count": 21,
   "id": "c7a9c5e8",
   "metadata": {},
   "outputs": [
    {
     "name": "stdout",
     "output_type": "stream",
     "text": [
      " request  1 2022-11-19 01:42:12.424539 +0800 CST m=+3232.835900506\n",
      " request  2 2022-11-19 01:42:13.423246 +0800 CST m=+3233.834591939\n",
      " request  3 2022-11-19 01:42:14.424244 +0800 CST m=+3234.835574300\n",
      " request  4 2022-11-19 01:42:15.423293 +0800 CST m=+3235.834607466\n",
      " request  5 2022-11-19 01:42:16.425802 +0800 CST m=+3236.837100736\n",
      "==========================================\n",
      " request  1 2022-11-19 01:42:16.425934 +0800 CST m=+3236.837233156\n",
      " request  2 2022-11-19 01:42:16.425953 +0800 CST m=+3236.837251730\n",
      " request  3 2022-11-19 01:42:16.425966 +0800 CST m=+3236.837264534\n",
      " request  4 2022-11-19 01:42:17.426569 +0800 CST m=+3237.837852632\n",
      " request  5 2022-11-19 01:42:18.426957 +0800 CST m=+3238.838224357\n"
     ]
    }
   ],
   "source": [
    "func RateLimit() {\n",
    "    requests := make(chan int, 5)\n",
    "    for i := 1; i <= 5; i++ {\n",
    "        requests<- i\n",
    "    }\n",
    "    close(requests)\n",
    "    \n",
    "    limiter := time.Tick(1000 * time.Millisecond)\n",
    "    \n",
    "    for req := range requests {\n",
    "        <-limiter\n",
    "        fmt.Println(\" request \", req, time.Now())\n",
    "    }\n",
    "    \n",
    "    fmt.Println(\"==========================================\")\n",
    "    \n",
    "    burstyLimiter := make(chan time.Time, 3)\n",
    "    \n",
    "    for i := 0; i < 3; i++ {\n",
    "        burstyLimiter<- time.Now()\n",
    "    }\n",
    "    \n",
    "    go func() {\n",
    "        for t := range time.Tick(1000 * time.Millisecond) {\n",
    "            burstyLimiter<- t\n",
    "        }\n",
    "    }()\n",
    "    \n",
    "    burstyRequests := make(chan int, 5)\n",
    "    for i := 1; i <= 5; i++ {\n",
    "        burstyRequests<- i\n",
    "    }\n",
    "    close(burstyRequests)\n",
    "    for req := range burstyRequests {\n",
    "        <-burstyLimiter\n",
    "        fmt.Println(\" request \", req, time.Now())\n",
    "    }\n",
    "    \n",
    "}\n",
    "RateLimit()"
   ]
  },
  {
   "cell_type": "code",
   "execution_count": 32,
   "id": "cfcfe5ef",
   "metadata": {},
   "outputs": [
    {
     "name": "stdout",
     "output_type": "stream",
     "text": [
      "==>  map[a:10300 b:2000]\n"
     ]
    }
   ],
   "source": [
    "import \"sync/atomic\"\n",
    "func Atomic() {\n",
    "    var ops uint64\n",
    "    var wg sync.WaitGroup\n",
    "    for i := 0; i < 50; i++ {\n",
    "        wg.Add(1)\n",
    "        go func() {\n",
    "            for c := 0; c < 100000; c++ {\n",
    "                atomic.AddUint64(&ops, 1)\n",
    "            }\n",
    "            wg.Done()\n",
    "        }()\n",
    "    }\n",
    "    wg.Wait()\n",
    "    fmt.Println(\" ops: \", ops)\n",
    "}\n",
    "\n",
    "type Container struct {\n",
    "    mu sync.Mutex\n",
    "    counters map[string]int    \n",
    "}\n",
    "func (c *Container) inc(name string) {\n",
    "    c.mu.Lock()\n",
    "    defer c.mu.Unlock()\n",
    "    c.counters[name]++\n",
    "}\n",
    "\n",
    "func Mutex() {\n",
    "    c := Container{\n",
    "        counters: map[string]int{\"a\": 0,\"b\": 0},\n",
    "    }\n",
    "    var wg sync.WaitGroup\n",
    "    doIncrement := func(name string, n int) {\n",
    "        for i := 0; i < n; i++ {\n",
    "            c.inc(name)\n",
    "        }\n",
    "        wg.Done()\n",
    "    }\n",
    "    wg.Add(3)\n",
    "    go doIncrement(\"a\", 10000)\n",
    "    go doIncrement(\"a\", 300)\n",
    "    go doIncrement(\"b\", 2000)\n",
    "    wg.Wait()\n",
    "    fmt.Println(\"==> \", c.counters)\n",
    "}\n",
    "Mutex()"
   ]
  },
  {
   "cell_type": "code",
   "execution_count": 1,
   "id": "dbc8deec",
   "metadata": {},
   "outputs": [
    {
     "name": "stdout",
     "output_type": "stream",
     "text": [
      " readOps:  80501\n",
      " writeOps:  8067\n"
     ]
    }
   ],
   "source": [
    "import (\n",
    "    \"fmt\"\n",
    "    \"math/rand\"\n",
    "    \"sync/atomic\"\n",
    "    \"time\"\n",
    ")\n",
    "type readOp struct {\n",
    "    key int\n",
    "    resp chan int\n",
    "}\n",
    "type writeOp struct {\n",
    "    key int\n",
    "    val int\n",
    "    resp chan bool\n",
    "}\n",
    "func ChanSync() {\n",
    "    var readOps uint64\n",
    "    var writeOps uint64\n",
    "\n",
    "    reads := make(chan readOp)\n",
    "    writes := make(chan writeOp)\n",
    "    \n",
    "    go func() {\n",
    "        var state = make(map[int]int)\n",
    "        for {\n",
    "            select {\n",
    "            case read := <-reads:\n",
    "                read.resp<- state[read.key]\n",
    "            case write := <-writes:\n",
    "                state[write.key] = write.val\n",
    "                write.resp<- true\n",
    "            }\n",
    "        }\n",
    "    }()\n",
    "    \n",
    "    for r := 0; r < 100; r++ {\n",
    "        go func() {\n",
    "            for {\n",
    "                read := readOp{\n",
    "                    key: rand.Intn(5),\n",
    "                    resp: make(chan int)}\n",
    "                reads<- read\n",
    "                <-read.resp\n",
    "                atomic.AddUint64(&readOps, 1)\n",
    "                time.Sleep(time.Millisecond)\n",
    "            }\n",
    "        }()\n",
    "    }\n",
    "    \n",
    "    for w := 0; w < 10; w++ {\n",
    "        go func() {\n",
    "            for {\n",
    "                write := writeOp{\n",
    "                    key: rand.Intn(5),\n",
    "                    val: rand.Intn(100),\n",
    "                    resp: make(chan bool)}                \n",
    "                writes<- write\n",
    "                <-write.resp\n",
    "                atomic.AddUint64(&writeOps, 1)\n",
    "                time.Sleep(time.Millisecond)\n",
    "            } \n",
    "        }()\n",
    "    }\n",
    "    time.Sleep(time.Second)\n",
    "    \n",
    "    readOpsFinal := atomic.LoadUint64(&readOps)\n",
    "    fmt.Println(\" readOps: \", readOpsFinal)\n",
    "    writeOpsFinal := atomic.LoadUint64(&writeOps)\n",
    "    fmt.Println(\" writeOps: \", writeOpsFinal)\n",
    "    \n",
    "}\n",
    "ChanSync()"
   ]
  },
  {
   "cell_type": "code",
   "execution_count": 8,
   "id": "3b7f9f12",
   "metadata": {},
   "outputs": [
    {
     "name": "stdout",
     "output_type": "stream",
     "text": [
      "Strings:  [a b c]\n",
      "Ints:  [2 4 7]\n",
      "Sorted:  true\n",
      "fruits:  [kiwi peach banana]\n"
     ]
    },
    {
     "data": {
      "text/plain": [
       "29 <nil>"
      ]
     },
     "execution_count": 8,
     "metadata": {},
     "output_type": "execute_result"
    }
   ],
   "source": [
    "import (\n",
    "    \"sort\"\n",
    "    \"fmt\"\n",
    ")\n",
    "\n",
    "func St() {\n",
    "    \n",
    "    strs := []string{\"c\", \"a\", \"b\"}\n",
    "    sort.Strings(strs)\n",
    "    fmt.Println(\"Strings: \", strs)\n",
    "    \n",
    "    ints := []int{7, 2, 4}\n",
    "    sort.Ints(ints)\n",
    "    fmt.Println(\"Ints: \", ints)\n",
    "    \n",
    "    s := sort.IntsAreSorted(ints)\n",
    "    fmt.Println(\"Sorted: \", s)\n",
    "}\n",
    "St()\n",
    "type byLength []string\n",
    "func (s byLength) Len() int {\n",
    "    return len(s)\n",
    "}\n",
    "func (s byLength) Swap(i, j int) {\n",
    "    s[i], s[j] = s[j], s[i]\n",
    "}\n",
    "func (s byLength) Less(i, j int) bool {\n",
    "    return len(s[i]) < len(s[j])\n",
    "}\n",
    "\n",
    "fruits := []string{\"peach\", \"banana\", \"kiwi\"}\n",
    "sort.Sort(byLength(fruits))\n",
    "fmt.Println(\"fruits: \", fruits)\n"
   ]
  },
  {
   "cell_type": "code",
   "execution_count": 12,
   "id": "7917093e",
   "metadata": {},
   "outputs": [
    {
     "ename": "ERROR",
     "evalue": " panic ",
     "output_type": "error",
     "traceback": [
      " panic "
     ]
    }
   ],
   "source": [
    "func Panic() {\n",
    "    panic(\" panic \")\n",
    "    fmt.Println(\"========\")\n",
    "}\n",
    "Panic()"
   ]
  },
  {
   "cell_type": "code",
   "execution_count": 13,
   "id": "f3419dfb",
   "metadata": {},
   "outputs": [
    {
     "name": "stdout",
     "output_type": "stream",
     "text": [
      " start \n",
      " end \n"
     ]
    }
   ],
   "source": [
    "func Def() {\n",
    "    defer fmt.Println(\" end \")\n",
    "    fmt.Println(\" start \")\n",
    "}\n",
    "Def()"
   ]
  },
  {
   "cell_type": "code",
   "execution_count": 16,
   "id": "6b0a1d1f",
   "metadata": {},
   "outputs": [
    {
     "name": "stdout",
     "output_type": "stream",
     "text": [
      " Recoverd. Error:   a problem \n"
     ]
    }
   ],
   "source": [
    "func Recover() {\n",
    "    p := func() {\n",
    "        panic(\" a problem \")\n",
    "    }\n",
    "    defer func() {\n",
    "        if r := recover(); r != nil {\n",
    "            fmt.Println(\" Recoverd. Error: \", r)\n",
    "        } \n",
    "    }()\n",
    "    \n",
    "    p()\n",
    "    fmt.Println(\" After panic\")\n",
    "}\n",
    "\n",
    "Recover()"
   ]
  },
  {
   "cell_type": "code",
   "execution_count": 57,
   "id": "ed77a68d",
   "metadata": {},
   "outputs": [
    {
     "name": "stdout",
     "output_type": "stream",
     "text": [
      " struct1: {1 2}\n",
      " struct2: {𒀸x:1 𒀸y:2}\n",
      " struct3: struct { 𒀸x int; 𒀸y int }{𒀸x:1, 𒀸y:2}\n",
      " type: struct { 𒀸x int; 𒀸y int }\n",
      " bool: true\n",
      " int: 123\n",
      " bin: 1110\n",
      " char: A\n",
      " hex: 1c8\n",
      " float1: 78.900000\n",
      " float2: 1.234000e+08\n",
      " float3: 1.234000E+08\n",
      " str1: \"string\"\n",
      " str2: \"\\\"string\\\"\"\n",
      " str3: 6865782074686973\n",
      " pointer: 0xc000615b20\n",
      " width1: |    12|   345|\n",
      " width2: |  1.20|  3.45\n",
      " width2: |1.20  |3.45  \n",
      " width4: |   foo|     b|\n",
      " width5: |foo   |b     |\n",
      " s:   sprintf: a string\n"
     ]
    },
    {
     "name": "stderr",
     "output_type": "stream",
     "text": [
      "io: an error\n"
     ]
    }
   ],
   "source": [
    "import (\n",
    "    s \"strings\"\n",
    "    \"fmt\"\n",
    "    \"os\"\n",
    ")\n",
    "\n",
    "var p = fmt.Println\n",
    "\n",
    "func String() {\n",
    "    p(\"Contains: \", s.Contains(\"test\", \"es\"))\n",
    "    p(\"Count:    \", s.Count(\"test\", \"t\"))\n",
    "    p(\"HasPrefix:\", s.HasPrefix(\"test\", \"te\"))\n",
    "    p(\"HasSuffix:\", s.HasSuffix(\"test\", \"st\"))\n",
    "    p(\"Index:    \", s.Index(\"test\", \"e\"))\n",
    "    p(\"Join:     \", s.Join([]string{\"a\", \"b\"}, \"-\"))\n",
    "    p(\"Repeat:   \", s.Repeat(\"a\", 5))\n",
    "    p(\"Replace:  \", s.Replace(\"foo\", \"o\", \"0\", -1))\n",
    "    p(\"Replace:  \", s.Replace(\"foo\", \"o\", \"0\", 1))\n",
    "    p(\"Split:    \", s.Split(\"a-b-c-d-e\", \"-\"))\n",
    "    p(\"ToLower:  \", s.ToLower(\"Test\"))\n",
    "    p(\"ToUpper:  \", s.ToUpper(\"test\"))\n",
    "}\n",
    "func Format() {\n",
    "    type point struct {\n",
    "        x, y int\n",
    "    }\n",
    "    p := point{1, 2}\n",
    "    fmt.Printf(\" struct1: %v\\n\", p)\n",
    "    fmt.Printf(\" struct2: %+v\\n\", p)\n",
    "    fmt.Printf(\" struct3: %#v\\n\", p)\n",
    "    \n",
    "    fmt.Printf(\" type: %T\\n\", p)\n",
    "    fmt.Printf(\" bool: %t\\n\", true)\n",
    "    fmt.Printf(\" int: %d\\n\", 123)\n",
    "    fmt.Printf(\" bin: %b\\n\", 14)\n",
    "    fmt.Printf(\" char: %c\\n\", 65)\n",
    "    fmt.Printf(\" hex: %x\\n\", 456)\n",
    "    fmt.Printf(\" float1: %f\\n\", 78.9)\n",
    "    fmt.Printf(\" float2: %e\\n\", 123400000.0)\n",
    "    fmt.Printf(\" float3: %E\\n\", 123400000.0)\n",
    "    \n",
    "    fmt.Printf(\" str1: %s\\n\", \"\\\"string\\\"\")\n",
    "    fmt.Printf(\" str2: %q\\n\", \"\\\"string\\\"\")\n",
    "    fmt.Printf(\" str3: %x\\n\", \"hex this\")\n",
    "    \n",
    "    fmt.Printf(\" pointer: %p\\n\", &p)\n",
    "    \n",
    "    fmt.Printf(\" width1: |%6d|%6d|\\n\", 12, 345)\n",
    "    fmt.Printf(\" width2: |%6.2f|%6.2f\\n\", 1.2, 3.45)\n",
    "    fmt.Printf(\" width2: |%-6.2f|%-6.2f\\n\", 1.2, 3.45)\n",
    "\n",
    "    \n",
    "    fmt.Printf(\" width4: |%6s|%6s|\\n\", \"foo\", \"b\")\n",
    "    fmt.Printf(\" width5: |%-6s|%-6s|\\n\", \"foo\", \"b\")\n",
    "    k\n",
    "    \n",
    "    \n",
    "    \n",
    "    \n",
    "    s := fmt.Sprintf(\" sprintf: a %s\", \"string\")\n",
    "    fmt.Println(\" s: \", s)\n",
    "    \n",
    "    fmt.Fprintf(os.Stderr, \"io: an %s\\n\", \"error\")\n",
    "    \n",
    "}\n",
    "Format()"
   ]
  },
  {
   "cell_type": "code",
   "execution_count": 72,
   "id": "f9268cd2",
   "metadata": {},
   "outputs": [
    {
     "name": "stdout",
     "output_type": "stream",
     "text": [
      "Value: some text\n",
      "Value: 5\n",
      "Value: [Go Rust C++ C#]\n",
      "Name: Jane Doe \n",
      "Name: Mickey Mouse \n",
      "yes \n",
      "no \n",
      "Range: Go Rust C++ C# \n"
     ]
    }
   ],
   "source": [
    "import \"text/template\"\n",
    "func Template() {\n",
    "    t1 := template.New(\"t1\")\n",
    "    t1, err := t1.Parse(\" Value is {{.}}\\n\")\n",
    "    if err != nil {\n",
    "        panic(err)\n",
    "    }\n",
    "    t1 = template.Must(t1.Parse(\"Value: {{.}}\\n\"))\n",
    "    \n",
    "    t1.Execute(os.Stdout, \"some text\")\n",
    "    t1.Execute(os.Stdout, 5)\n",
    "    t1.Execute(os.Stdout, []string{\n",
    "        \"Go\",\n",
    "        \"Rust\",\n",
    "        \"C++\",\n",
    "        \"C#\",\n",
    "    })\n",
    "    \n",
    "    \n",
    "    Create := func(name, t string) *template.Template {\n",
    "        return template.Must(template.New(name).Parse(t))\n",
    "    }\n",
    "    \n",
    "    t2 := Create(\"t2\", \"Name: {{.Name}} \\n\")\n",
    "    \n",
    "    t2.Execute(os.Stdout, struct {\n",
    "        Name string\n",
    "    }{\"Jane Doe\"})\n",
    "    \n",
    "    t2.Execute(os.Stdout, map[string]string{\n",
    "        \"Name\": \"Mickey Mouse\",\n",
    "    })\n",
    "    \n",
    "    t3 := Create(\"t3\", \"{{if . -}} yes {{else -}} no {{end}}\\n\")\n",
    "    t3.Execute(os.Stdout, \" not empty \")\n",
    "    t3.Execute(os.Stdout, \"\")\n",
    "    \n",
    "    t4 := Create(\"t4\", \"Range: {{range .}}{{ . }} {{end}}\\n\")\n",
    "    t4.Execute(os.Stdout, []string{\"Go\", \"Rust\", \"C++\", \"C#\"})\n",
    "    \n",
    "}\n",
    "Template()"
   ]
  },
  {
   "cell_type": "code",
   "execution_count": 93,
   "id": "4c90c8c0",
   "metadata": {},
   "outputs": [
    {
     "name": "stdout",
     "output_type": "stream",
     "text": [
      "true\n",
      "true\n",
      "peach\n",
      "idx:  [0 5]\n",
      "[peach ea]\n",
      "[0 5 1 3]\n",
      "all:  [peach punch pinch]\n",
      "[[0 5 1 3] [6 11 7 9] [12 17 13 15]]\n",
      "all:  [peach punch]\n",
      "true\n",
      "regexp:  p([a-z]+)ch\n",
      "a <fruit>\n",
      "a PEACH\n"
     ]
    }
   ],
   "source": [
    "import (\n",
    "    \"fmt\"\n",
    "    \"bytes\"\n",
    "    \"regexp\"\n",
    ")\n",
    "func Re() {\n",
    "    \n",
    "    match, _ := regexp.MatchString(\"p([a-z]+)ch\", \"peach\")\n",
    "    fmt.Println(match)\n",
    "    \n",
    "    r, _ := regexp.Compile(\"p([a-z]+)ch\")\n",
    "    fmt.Println(r.MatchString(\"peach\"))\n",
    "    \n",
    "    fmt.Println(r.FindString(\"peach punch\"))\n",
    "    \n",
    "    fmt.Println(\"idx: \", r.FindStringIndex(\"peach punch\"))\n",
    "    \n",
    "    fmt.Println(r.FindStringSubmatch(\"peach punch\"))\n",
    "    \n",
    "    fmt.Println(r.FindStringSubmatchIndex(\"peach punch\"))\n",
    "    \n",
    "    fmt.Println(\"all: \", r.FindAllString(\"peach punch pinch\", -1))\n",
    "    \n",
    "    fmt.Println(r.FindAllStringSubmatchIndex(\"peach punch pinch\", -1))\n",
    "    \n",
    "    fmt.Println(\"all: \", r.FindAllString(\"peach punch pinch\", 2))\n",
    "    \n",
    "    fmt.Println(r.Match([]byte(\"peach\")))\n",
    "    \n",
    "    r = regexp.MustCompile(\"p([a-z]+)ch\")\n",
    "    fmt.Println(\"regexp: \", r)\n",
    "    \n",
    "    fmt.Println(r.ReplaceAllString(\"a peach\", \"<fruit>\"))\n",
    "    \n",
    "    in := []byte(\"a peach\")\n",
    "    out := r.ReplaceAllFunc(in, bytes.ToUpper)\n",
    "    fmt.Println(string(out))\n",
    "    \n",
    "    \n",
    "    \n",
    "}\n",
    "Re()"
   ]
  },
  {
   "cell_type": "code",
   "execution_count": 112,
   "id": "36c58dd1",
   "metadata": {},
   "outputs": [
    {
     "name": "stdout",
     "output_type": "stream",
     "text": [
      "// warning: expression returns 2 values, using only the first one: [[]uint8 error]\n",
      "// warning: expression returns 2 values, using only the first one: [[]uint8 error]\n",
      " ->  true\n",
      " ->  1\n",
      " ->  2.34\n",
      " ->  \"gopher\"\n",
      "[\"apple\",\"peach\",\"pear\"]\n",
      "{\"apple\":3,\"lettuce\":3}\n",
      "{\"Page\":1,\"Fruits\":[\"apple\",\"peach\",\"pear\"]}\n",
      "{\"page\":1,\"fruits\":[\"apple\",\"peach\",\"pear\"]}\n",
      "map[num:6.13 strs:[a b]]\n",
      " num:  6.13\n",
      " str1:  a\n",
      " res:  {1 [apple peach]}\n",
      " fruits:  apple\n",
      "{\"apple\":5,\"lettuce\":7}\n"
     ]
    }
   ],
   "source": [
    "import (\n",
    "    \"encoding/json\"\n",
    "    \"fmt\"\n",
    "    \"os\"\n",
    ")\n",
    "func Json() {\n",
    "    type response1 struct {\n",
    "        Page int\n",
    "        Fruits []string\n",
    "    }\n",
    "    type response2 struct {\n",
    "        Page int `json:\"page\"`\n",
    "        Fruits []string `json:\"fruits\"`\n",
    "    }\n",
    "    \n",
    "    bolB, _ := json.Marshal(true)\n",
    "    fmt.Println(\" -> \", string(bolB))\n",
    "    \n",
    "    intB, _ := json.Marshal(1)\n",
    "    fmt.Println(\" -> \", string(intB))\n",
    "    \n",
    "    fltB, _ := json.Marshal(2.34)\n",
    "    fmt.Println(\" -> \", string(fltB))\n",
    "    \n",
    "    strB, _ := json.Marshal(\"gopher\")\n",
    "    fmt.Println(\" -> \", string(strB))\n",
    "    \n",
    "    slcD := []string{\"apple\", \"peach\", \"pear\"}\n",
    "    slcB, _ := json.Marshal(slcD)\n",
    "    fmt.Println(string(slcB))\n",
    "    \n",
    "    mapD := map[string]int{\"apple\": 3, \"lettuce\": 3}\n",
    "    mapB := json.Marshal(mapD)\n",
    "    fmt.Println(string(mapB))\n",
    "    \n",
    "    \n",
    "    res1D := &response1{\n",
    "        Page: 1,\n",
    "        Fruits: []string{\"apple\", \"peach\", \"pear\"}}\n",
    "    res1B := json.Marshal(res1D)\n",
    "    fmt.Println(string(res1B))\n",
    "    \n",
    "    res2D := &response2{\n",
    "        Page: 1,\n",
    "        Fruits: []string{\"apple\", \"peach\", \"pear\"}}\n",
    "    res2B, _ := json.Marshal(res2D)\n",
    "    fmt.Println(string(res2B))\n",
    "    \n",
    "    byt := []byte(`{\"num\":6.13, \"strs\": [\"a\", \"b\"]}`)\n",
    "    var dat map[string]interface{}\n",
    "    \n",
    "    if err := json.Unmarshal(byt, &dat); err != nil {\n",
    "        panic(err)\n",
    "    }\n",
    "    \n",
    "    fmt.Println(dat)\n",
    "    \n",
    "    num := dat[\"num\"].(float64)\n",
    "    \n",
    "    fmt.Println(\" num: \", num)\n",
    "    \n",
    "    \n",
    "    strs := dat[\"strs\"].([]interface{})\n",
    "    str1 := strs[0].(string)\n",
    "    fmt.Println(\" str1: \", str1)\n",
    "    \n",
    "    str := `{\"page\": 1, \"fruits\": [\"apple\", \"peach\"]}`\n",
    "    res := response2{}\n",
    "    json.Unmarshal([]byte(str), &res)\n",
    "    fmt.Println(\" res: \", res)\n",
    "    fmt.Println(\" fruits: \", res.Fruits[0])\n",
    "    \n",
    "    ech := json.NewEncoder(os.Stdout)\n",
    "    d := map[string]int{\"apple\": 5, \"lettuce\": 7}\n",
    "    ech.Encode(d)\n",
    "    \n",
    "}\n",
    "Json()"
   ]
  },
  {
   "cell_type": "code",
   "execution_count": 130,
   "id": "23f81734",
   "metadata": {},
   "outputs": [
    {
     "name": "stdout",
     "output_type": "stream",
     "text": [
      "2022-11-19 13:44:31.010109 +0800 CST m=+6932.425074076\n",
      "2009-11-17 20:34:58.651387273 +0000 UTC\n",
      "2009\n",
      "November\n",
      "17\n",
      "20\n",
      "34\n",
      "58\n",
      "651387273\n",
      "UTC\n",
      "Tuesday\n",
      "true\n",
      "false\n",
      "false\n",
      "113985h9m32.358721727s\n",
      "113985.15898853382\n",
      "6.839109539312028e+06\n",
      "4.1034657235872173e+08\n",
      "410346572358721727\n",
      "2022-11-19 05:44:31.010109 +0000 UTC\n",
      "1996-11-16 11:25:26.292665546 +0000 UTC\n",
      "=================================\n",
      "1668836671\n",
      "1668836671010\n",
      "1668836671010109000\n",
      "2022-11-19 13:44:31 +0800 CST\n",
      "2022-11-19 13:44:31.010109 +0800 CST\n",
      "***********************************\n",
      "2022-11-19T13:44:31+08:00\n",
      "2012-11-01 22:08:41 +0000 +0000\n"
     ]
    }
   ],
   "source": [
    "func TTime() {\n",
    "    import \"time\"\n",
    "    \n",
    "    p := fmt.Println\n",
    "    \n",
    "    now := time.Now()\n",
    "    p(now)\n",
    "    \n",
    "    then := time.Date(2009, 11, 17, 20, 34, 58, 651387273, time.UTC)\n",
    "    p(then)\n",
    "    \n",
    "    p(then.Year())\n",
    "    p(then.Month())\n",
    "    p(then.Day())\n",
    "    p(then.Hour())\n",
    "    p(then.Minute())\n",
    "    p(then.Second())\n",
    "    p(then.Nanosecond())\n",
    "    p(then.Location())\n",
    "    \n",
    "    p(then.Weekday())\n",
    "    \n",
    "    p(then.Before(now))\n",
    "    p(then.After(now))\n",
    "    p(then.Equal(now))\n",
    "    \n",
    "    diff := now.Sub(then)\n",
    "    \n",
    "    p(diff)\n",
    "    p(diff.Hours())\n",
    "    p(diff.Minutes())\n",
    "    p(diff.Seconds())\n",
    "    p(diff.Nanoseconds())\n",
    "    \n",
    "    p(then.Add(diff))\n",
    "    p(then.Add(-diff))\n",
    "    \n",
    "    p(\"=================================\")\n",
    "    \n",
    "    p(now.Unix())\n",
    "    p(now.UnixMilli())\n",
    "    p(now.UnixNano())\n",
    "    p(time.Unix(now.Unix(), 0))\n",
    "    p(time.Unix(0, now.UnixNano()))\n",
    "    \n",
    "    p(\"***********************************\")\n",
    "    \n",
    "    p(now.Format(time.RFC3339))\n",
    "    t1, e := time.Parse(\n",
    "        time.RFC3339,\n",
    "        \"2012-11-01T22:08:41+00:00\",\n",
    "    )\n",
    "    p(t1)\n",
    "    \n",
    "}\n",
    "TTime()"
   ]
  },
  {
   "cell_type": "code",
   "execution_count": 151,
   "id": "02a26321",
   "metadata": {},
   "outputs": [
    {
     "name": "stdout",
     "output_type": "stream",
     "text": [
      "94\n",
      "77\n",
      "0.5637795958152644\n",
      "8.247447302964702\n",
      "7.758825245063875\n",
      "\n",
      "8\n",
      "5\n",
      "5\n"
     ]
    }
   ],
   "source": [
    "func Rand() {\n",
    "    import (\n",
    "        \"math/rand\"\n",
    "        \"time\"\n",
    "        \"fmt\"\n",
    "    )\n",
    "    p := fmt.Println\n",
    "    \n",
    "    p(rand.Intn(100))\n",
    "    p(rand.Intn(100))\n",
    "    p(rand.Float64())\n",
    "    p((rand.Float64()*5) + 5)\n",
    "    p((rand.Float64()*5) + 5)\n",
    "    p()\n",
    "    \n",
    "    s1 := rand.NewSource(time.Now().UnixNano())\n",
    "    r1 := rand.New(s1)\n",
    "    \n",
    "    p(r1.Intn(100))\n",
    "    \n",
    "    s2 := rand.NewSource(42)\n",
    "    r2 := rand.New(s2)\n",
    "    \n",
    "    p(r2.Intn(100))\n",
    "    \n",
    "    s3 := rand.NewSource(42)\n",
    "    r3 := rand.New(s3)\n",
    "    p(r3.Intn(100))\n",
    "    \n",
    "    \n",
    "}\n",
    "Rand()"
   ]
  },
  {
   "cell_type": "code",
   "execution_count": 161,
   "id": "c3e2e0de",
   "metadata": {},
   "outputs": [
    {
     "name": "stdout",
     "output_type": "stream",
     "text": [
      "1.234\n",
      "123\n",
      "456\n",
      "789\n",
      "123\n",
      "strconv.Atoi: parsing \"wat\": invalid syntax\n"
     ]
    }
   ],
   "source": [
    "func ParseNum() {\n",
    "    import (\n",
    "        \"fmt\"\n",
    "        \"strconv\"\n",
    "    )\n",
    "    p := fmt.Println\n",
    "    \n",
    "    f, _ := strconv.ParseFloat(\"1.234\", 64)\n",
    "    p(f)\n",
    "    \n",
    "    i, _ := strconv.ParseInt(\"123\", 0, 64)\n",
    "    p(i)\n",
    "    \n",
    "    d, _ := strconv.ParseInt(\"0x1c8\", 0, 64)\n",
    "    p(d)\n",
    "    \n",
    "    u, _ := strconv.ParseUint(\"789\", 0, 64)\n",
    "    p(u)\n",
    "    \n",
    "    k, _ := strconv.Atoi(\"123\")\n",
    "    p(k)\n",
    "    \n",
    "    _, e := strconv.Atoi(\"wat\")\n",
    "    p(e)\n",
    "    \n",
    "    \n",
    "    \n",
    "}\n",
    "ParseNum()"
   ]
  },
  {
   "cell_type": "code",
   "execution_count": 163,
   "id": "47e32480",
   "metadata": {},
   "outputs": [
    {
     "name": "stdout",
     "output_type": "stream",
     "text": [
      " s:  sha256 this string\n",
      " 1af1dfa857bf1d8814fe1af8983c18080019922e557f15a8a0d3db739d77aacb\n"
     ]
    }
   ],
   "source": [
    "func Crypt() {\n",
    "    import \"crypto/sha256\"\n",
    "    \n",
    "    s := \"sha256 this string\"\n",
    "    h := sha256.New()\n",
    "    h.Write([]byte(s))\n",
    "    bs := h.Sum(nil)\n",
    "    fmt.Println(\" s: \", s)\n",
    "    fmt.Printf(\" %x\\n\", bs)\n",
    "}\n",
    "Crypt()"
   ]
  },
  {
   "cell_type": "code",
   "execution_count": 168,
   "id": "e804b834",
   "metadata": {},
   "outputs": [
    {
     "name": "stdout",
     "output_type": "stream",
     "text": [
      "YWJjMTIzIT8kKiYoKSctPUB+\n",
      "abc123!?$*&()'-=@~\n",
      "YWJjMTIzIT8kKiYoKSctPUB-\n",
      "abc123!?$*&()'-=@~\n"
     ]
    }
   ],
   "source": [
    "func Base64() {\n",
    "    import (\n",
    "        b64 \"encoding/base64\"\n",
    "    )\n",
    "    data := \"abc123!?$*&()'-=@~\"\n",
    "    \n",
    "    sEnc := b64.StdEncoding.EncodeToString([]byte(data))\n",
    "    fmt.Println(sEnc)\n",
    "    sDec, _ := b64.StdEncoding.DecodeString(sEnc)\n",
    "    fmt.Println(string(sDec))\n",
    "    \n",
    "    uEnc := b64.URLEncoding.EncodeToString([]byte(data))\n",
    "    fmt.Println(uEnc)\n",
    "    uDec, _ := b64.URLEncoding.DecodeString(uEnc)\n",
    "    fmt.Println(string(uDec))\n",
    "    \n",
    "}\n",
    "Base64()"
   ]
  },
  {
   "cell_type": "code",
   "execution_count": 199,
   "id": "ffca86e4",
   "metadata": {},
   "outputs": [
    {
     "name": "stdout",
     "output_type": "stream",
     "text": [
      "// warning: expression returns 2 values, using only the first one: [string error]\n",
      "/Users/viber/Mamba/THE-WAY-TO-THE-FUTURE/go\n",
      "/Users/viber/Mamba/THE-WAY-TO-THE-FUTURE/go/ch.go\n"
     ]
    }
   ],
   "source": [
    "import (\n",
    "    \"bufio\"\n",
    "    \"fmt\"\n",
    "    \"io\"\n",
    "    \"os\"\n",
    "    \"path/filepath\"\n",
    ")\n",
    "\n",
    "p := fmt.Println\n",
    "func check(e error) {\n",
    "    if e != nil {\n",
    "        panic(e)\n",
    "    }\n",
    "}\n",
    "\n",
    "\n",
    "func FFile() {\n",
    "    data, err := os.ReadFile(\"./ch.go\")\n",
    "    check(err)\n",
    "    fmt.Println(string(data))\n",
    "}\n",
    "\n",
    "FFile()\n",
    "\n"
   ]
  },
  {
   "cell_type": "code",
   "execution_count": 212,
   "id": "b4dd04b6",
   "metadata": {},
   "outputs": [
    {
     "name": "stdout",
     "output_type": "stream",
     "text": [
      "dir1/dir2/filename\n",
      "dir1/filename\n",
      "dir1/filename\n",
      "Dir(p):  dir1/dir2\n",
      "base(p):  filename\n",
      "false\n",
      "true\n",
      ".json\n",
      "config\n",
      "t/file\n",
      "../c/t/file\n"
     ]
    }
   ],
   "source": [
    "func Path() {\n",
    "    import (\n",
    "        \"fmt\"\n",
    "        \"path/filepath\"\n",
    "        \"strings\"\n",
    "    )\n",
    "    fp := fmt.Println\n",
    "    p := filepath.Join(\"dir1\", \"dir2\", \"filename\")\n",
    "    fp(p)\n",
    "    \n",
    "    fp(filepath.Join(\"dir1//\", \"filename\"))\n",
    "    fp(filepath.Join(\"dir1/../dir1\", \"filename\"))\n",
    "    \n",
    "    fp(\"Dir(p): \", filepath.Dir(p))\n",
    "    fp(\"base(p): \", filepath.Base(p))\n",
    "    \n",
    "    fp(filepath.IsAbs(\"dir/file\"))\n",
    "    fp(filepath.IsAbs(\"/dir/file\"))\n",
    "    \n",
    "    filename := \"config.json\"\n",
    "    \n",
    "    ext := filepath.Ext(filename)\n",
    "    fp(ext)\n",
    "    \n",
    "    fp(strings.TrimSuffix(filename, ext))\n",
    "    \n",
    "    rel, err := filepath.Rel(\"a/b\", \"a/b/t/file\")\n",
    "    if err != nil {\n",
    "        panic(err)\n",
    "    }\n",
    "    fp(rel)\n",
    "    rel, err = filepath.Rel(\"a/b\", \"a/c/t/file\")\n",
    "    if err != nil {\n",
    "        panic(err)\n",
    "    }\n",
    "    fmt.Println(rel)\n",
    "    \n",
    "    err = os.Mkdir(\"/tmp\", 0755)\n",
    "    defer os.RemoveAll(\"/tmp\")\n",
    "    \n",
    "}\n",
    "Path()"
   ]
  },
  {
   "cell_type": "code",
   "execution_count": null,
   "id": "1fcd0d1c",
   "metadata": {},
   "outputs": [],
   "source": [
    "import (\n",
    "    \"fmt\"\n",
    "    \"testing\"\n",
    ")\n",
    "\n",
    "func IntMin(a, b int) int {\n",
    "    if a < b {\n",
    "        return a\n",
    "    }\n",
    "    return b\n",
    "}\n",
    "func TestIntMinBasic(t *testing.T) {\n",
    "    ans := IntMin(2, -2)\n",
    "    if ans != -2 {\n",
    "        t.Errorf(\"IntMin(2, -2) = %d; want -2\", ans)\n",
    "    }\n",
    "}\n",
    "func TestIntMinTableDriven(t *testing.T) {\n",
    "    var tests = []struct {\n",
    "        a, b int\n",
    "        want int\n",
    "    }{\n",
    "        {0, 1, 0},\n",
    "        {1, 0, 0},\n",
    "        {2, -2, -2},\n",
    "        {0, -1, -1},\n",
    "        {-1, 0, -1},        \n",
    "    }\n",
    "    for _, tt := range tests {\n",
    "        testname := fmt.Sprintf(\"%d, %d\", tt.a, tt.b)\n",
    "        t.Run(testname, func(t *testing.T) {\n",
    "            ans := IntMin(tt.a, tt.b)\n",
    "            if ans != tt.want {\n",
    "                t.Errorf(\" got %d, want %d\", ans, tt.want)\n",
    "            }\n",
    "        }) \n",
    "    }\n",
    "}"
   ]
  },
  {
   "cell_type": "code",
   "execution_count": 216,
   "id": "444b1fbd",
   "metadata": {},
   "outputs": [
    {
     "name": "stdout",
     "output_type": "stream",
     "text": [
      "[/Users/viber/go/bin/gophernotes /Users/viber/Library/Jupyter/runtime/kernel-1ad5c477-7301-4a8f-aace-db3bd0a17e7f.json]\n"
     ]
    },
    {
     "ename": "ERROR",
     "evalue": "reflect: slice index out of range",
     "output_type": "error",
     "traceback": [
      "reflect: slice index out of range"
     ]
    }
   ],
   "source": [
    "func Command() {\n",
    "    import (\n",
    "        \"fmt\"\n",
    "        \"os\"\n",
    "    )\n",
    "    argsWithProg := os.Args\n",
    "    fmt.Println(argsWithProg)\n",
    "    argsWithoutProg := os.Args[1:]\n",
    "    \n",
    "    arg := os.Args[3]\n",
    "    \n",
    "    fmt.Println(argsWithoutProg)\n",
    "    fmt.Println(arg)\n",
    "    \n",
    "}\n",
    "\n",
    "Command()"
   ]
  },
  {
   "cell_type": "code",
   "execution_count": null,
   "id": "be72b5a2",
   "metadata": {},
   "outputs": [],
   "source": [
    "import (\n",
    "    \"fmt\"\n",
    "    \"bufio\"\n",
    "    \"net/http\"\n",
    "    \"time\"\n",
    ")\n",
    "func HttpClient() {\n",
    "\n",
    "    rsp, err := http.Get(\"https://gobyexample.com\")\n",
    "    if err != nil {\n",
    "        panic(err)\n",
    "    }\n",
    "    defer rsp.Body.Close()\n",
    "    fmt.Println(\" Response Status: \", rsp.Status)\n",
    "    \n",
    "    scanner := bufio.NewScanner(rsp.Body)\n",
    "    for i := 0; scanner.Scan() && i < 5; i++ {\n",
    "        fmt.Println(scanner.Text())\n",
    "    }\n",
    "    if err := scanner.Err(); err != nil {\n",
    "        panic(err)\n",
    "    }\n",
    "}\n",
    "\n",
    "func HttpServer() {\n",
    "    hello := func(w http.ResponseWriter, req *http.Request) {\n",
    "        fmt.Fprintf(w, \"hello\\n\")\n",
    "    }\n",
    "    headers := func(w http.ResponseWriter, req *http.Request) {\n",
    "        for name, headers := range req.Header {\n",
    "            for _, h := range headers {\n",
    "                fmt.Fprintf(w, \"%v: %v\\n\", name, h)\n",
    "            }\n",
    "        }\n",
    "    }\n",
    "    \n",
    "    http.HandleFunc(\"/hello\", hello)\n",
    "    http.HandleFunc(\"/headers\", headers)\n",
    "    \n",
    "    http.ListenAndServe(\":8090\", nil)\n",
    "    \n",
    "}\n",
    "\n",
    "\n",
    "func Ctx() {\n",
    "    hello := func(w http.ResponseWriter, req *http.Request) {\n",
    "        ctx := req.Context()\n",
    "        fmt.Println(\" server: hello handler started \")\n",
    "        defer fmt.Println(\" server: hello handler ended \")\n",
    "        select {\n",
    "        case <-time.After(10 * time.Second):\n",
    "            fmt.Fprintf(w, \"hello\\n\")\n",
    "        case <-ctx.Done():\n",
    "            err := ctx.Err()\n",
    "            fmt.Println(\" server: \", err)\n",
    "            internalError := http.StatusInternalServerError\n",
    "            http.Error(w, err.Error(), internalError)\n",
    "        }\n",
    "    }\n",
    "    http.HandleFunc(\"/hello\", hello)\n",
    "    http.ListenAndServe(\":8989\", nil)\n",
    "}\n",
    "Ctx()"
   ]
  },
  {
   "cell_type": "code",
   "execution_count": null,
   "id": "f6727b02",
   "metadata": {},
   "outputs": [],
   "source": []
  },
  {
   "cell_type": "code",
   "execution_count": null,
   "id": "aab13577",
   "metadata": {},
   "outputs": [],
   "source": []
  }
 ],
 "metadata": {
  "kernelspec": {
   "display_name": "Go",
   "language": "go",
   "name": "gophernotes"
  },
  "language_info": {
   "codemirror_mode": "",
   "file_extension": ".go",
   "mimetype": "",
   "name": "go",
   "nbconvert_exporter": "",
   "pygments_lexer": "",
   "version": "go1.18.1"
  }
 },
 "nbformat": 4,
 "nbformat_minor": 5
}
